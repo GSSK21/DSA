{
 "cells": [
  {
   "cell_type": "code",
   "execution_count": 1,
   "metadata": {},
   "outputs": [],
   "source": [
    "#binary code updated\n",
    "def get_location(cards,query,mid):\n",
    "    if cards[mid]==query:\n",
    "        if mid-1>0 and cards[mid-1]==query:\n",
    "            return \"left\"\n",
    "        else:\n",
    "            return \"found\"\n",
    "    elif cards[mid]<query:\n",
    "        return \"left\"\n",
    "    else:\n",
    "        return \"right\"\n",
    "def locate_cards(cards,query):\n",
    "    low,high=0,len(cards)-1\n",
    "    while low<=high:\n",
    "        mid=(low+high)//2\n",
    "        print(\"low: \",low,\"mid: \",mid,\"high: \",high)\n",
    "        found_result=get_location(cards,query,mid)\n",
    "        print(found_result)\n",
    "        if found_result==\"found\":\n",
    "            return mid\n",
    "        elif found_result==\"left\": \n",
    "            high=mid-1\n",
    "        elif found_result==\"right\":\n",
    "            low=mid+1\n",
    "    print(low,high,mid)\n",
    "    return -1\n",
    "        \n",
    "print(locate_cards([14,14,13,11,8,7,4,3,2,1,1],query=14))"
   ]
  },
  {
   "cell_type": "code",
   "execution_count": 2,
   "metadata": {},
   "outputs": [
    {
     "name": "stdout",
     "output_type": "stream",
     "text": [
      "high: 14 low: 0 mid: 7\n",
      "high: 6 low: 0 mid: 3\n",
      "high: 2 low: 0 mid: 1\n",
      "high: 0 low: 0 mid: 0\n"
     ]
    },
    {
     "data": {
      "text/plain": [
       "1"
      ]
     },
     "execution_count": 2,
     "metadata": {},
     "output_type": "execute_result"
    }
   ],
   "source": []
  },
  {
   "cell_type": "code",
   "execution_count": null,
   "metadata": {},
   "outputs": [],
   "source": []
  }
 ],
 "metadata": {
  "kernelspec": {
   "display_name": "Python 3",
   "language": "python",
   "name": "python3"
  },
  "language_info": {
   "codemirror_mode": {
    "name": "ipython",
    "version": 3
   },
   "file_extension": ".py",
   "mimetype": "text/x-python",
   "name": "python",
   "nbconvert_exporter": "python",
   "pygments_lexer": "ipython3",
   "version": "3.9.10"
  }
 },
 "nbformat": 4,
 "nbformat_minor": 2
}
